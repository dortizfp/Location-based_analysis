{
    "nbformat_minor": 1, 
    "cells": [
        {
            "source": "# Battle of the neighbourhoods", 
            "cell_type": "markdown", 
            "metadata": {
                "collapsed": true
            }
        }, 
        {
            "source": "In this project, we will step into the role of a consultant, to advise and help young entrepreneurs open a business in the city of Toronto by leveraging the capabilities of Foursquare API, complementing it with economic, demographic and safety datasets provided by the city of Toronto vie its web portal Open Data (https://www.toronto.ca/city-government/data-research-maps/open-data/). With this, we will be able to provide a comprehensive anaylsis on the economic oportunities this city offers, optimizing the chances of success for this entrepreneurs.", 
            "cell_type": "markdown", 
            "metadata": {}
        }, 
        {
            "source": "## Table of Contents\n\n<div class=\"alert alert-block alert-info\" style=\"margin-top: 20px\">\n\n<font size = 3>\n\n1. <a href=\"#item1\">Problem statement and approach</a>\n\n2. <a href=\"#item2\">Datasets and role in the project</a>\n \n</font>\n</div>", 
            "cell_type": "markdown", 
            "metadata": {}
        }, 
        {
            "source": "# 1. Problem statement and approach", 
            "cell_type": "markdown", 
            "metadata": {}
        }, 
        {
            "source": "## 1.1 Background\n\nToronto is Canada\u2019s business and financial capital, a growing financial hub in North America, and a top ten global financial centre. \n\nThe Toronto region\u2019s GDP accounts for 18% of Canada\u2019s GDP. It is home to Canada\u2019s five major banks, the vast majority of foreign banks operating in Canada, and the Toronto Stock Exchange (TSX) \u2013 the world\u2019s principal exchange for mining, oil and gas and a leader in cleantech listings.\n\nToronto is competitive in almost every other major business sector from technology and life sciences to green energy; from fashion and design to food and beverage; from film and television production to music and digital media. Toronto\u2019s rich industrial diversity drives growth, innovation and cross-sectoral synergies and knowledge spillovers have spawned new leading-edge hybrid sectors including med-tech, green-tech and food-tech. (Source: https://www.toronto.ca/business-economy/invest-in-toronto/strong-economy/)", 
            "cell_type": "markdown", 
            "metadata": {}
        }, 
        {
            "source": "## 1.2 Problem statement\n\nAs an entrepreneur, you often have to make key decisions with little or no information early in the game, which can end up having a tremendous effect in your chances of success in the future. One of these key decisions, and the one of which we are going to focus as the scope of this project is where to locate your business, correctly assessing competition and business opportunities from public or private investment.", 
            "cell_type": "markdown", 
            "metadata": {}
        }, 
        {
            "source": "## 1.3 Approach\n\nTo navigate through this project we will create a decision framework organized into three lines of action, upon which we will design a business case example to apply this tools to a specific client. The three lines of action are the following:\n1. **Economic environment**: analysis of economic data per neighbourhood, with leading industry sectors and economic activity at Small and Medium Enterprise (SMEs) level (leveraging Foursquare API).\n2. **Potential customer base**: evaluation of demographic factors considering population, age segmentation and median income per neighbourhood among others.\n3. **Safety and public services**: exploration of different crimes and felonies recorded in each neighbourhood.", 
            "cell_type": "markdown", 
            "metadata": {}
        }, 
        {
            "source": "# 2. Datasets and role in the project\n\nWe have explained in section 1.3 the approach to be followed in this project, and how we plan to structure it to define which neighbourhood is more suitable to placing a start up. Also, we have introduced in our Problem Statement the lack of information about your economic environment as a potential pitfall for your business, therefore we will leverage the following datasets in our project:", 
            "cell_type": "markdown", 
            "metadata": {}
        }, 
        {
            "source": "## 2.1 Toronto Administrative Organization\n\n**Source:** https://www.toronto.ca/city-government/data-research-maps/neighbourhoods-communities/neighbourhood-profiles/\n\nBefore clustering and preparing our data, and once defined the scope of the problem to be solved it is necessary to define how the data will broke down to become actionable. As the core of the project is to determine the optimal conditions for an startup to thrive, we will use the different administrative neighborhoods in which Toronto is divided to draw our conclussions.\n\nThe fields relevant fo this dataset are:\n* Neighbourhood ID\n* Neighbourhood name\n* Latitude\n* Longitude", 
            "cell_type": "markdown", 
            "metadata": {}
        }, 
        {
            "source": "## 2.2 Toronto Demographics\n\n**Source:** https://www.toronto.ca/city-government/data-research-maps/open-data/open-data-catalogue/locations-and-mapping/#8c732154-5012-9afe-d0cd-ba3ffc813d5a\n\nThis dataset, provided via Toronto's Open Data portal contains the demographic data per each of the neighbourhoods in which Toronto is structured, from population density to income data and main ethnicities and languages spoken. This will be used either to define the customer profile in a given neighbourhood, or to fit a target customer for a variety of neighbourhoods. Due to the economic profile of this project, we have selected a subset of this data, containing the following features which will help us shape our population target:\n\n* Neighbourhood\n* Population density per sqm\n* Land area (sqm)\n* Children (0-14 years)\n* Youth (15-24 years)\n* Working Age (25-54 years)\n* Pre-retirement (55-64 years)\n* Seniors (65+ years)\n* Older Seniors (85+ years)\n* Civil status - Married\n* Civil status - Never married\n* Civil status - Separated\n* Civil status - Divorced\n* Median income - Under 10,000 (including loss)\n* Median income - 10,000 to 19,999\n* Median income - 20,000 to 29,999\n* Median income - 30,000 to 39,999\n* Median income - 40,000 to 49,999\n* Median income - 50,000 to 59,999\n* Median income - 60,000 to 69,999\n* Median income - 70,000 to 79,999\n* Median income - 80,000 to 89,999\n* Median income - 90,000 to 99,999\n* Median income - 100,000 and over\n* Median income - 100,000 to 149,999\n* Median income - 150,000 and over\n", 
            "cell_type": "markdown", 
            "metadata": {}
        }, 
        {
            "source": "## 2.3 Toronto Economics\n\n**Source:** https://www.toronto.ca/city-government/data-research-maps/open-data/open-data-catalogue/business/#e3a085d5-8e94-e279-4c17-33c209141464\n\nA second lever after customer segmentation is understanding the economic context of the area where the business would be based. By defining the state of general economics (debt level, real state, employment) complemented with venues and small businessess (point below, 2.4 Foursquare API) it would be possible to infere the economic fitness of an area either to invest, or to secure your customers while understanding your competition. The features contained in the dataset which we will be using are the following:\n\n* Neighbourhoods\n* Businesses\n* Child care spaces\n* Debt risk score\n* Home prices\n* Local employment\n* Social Assistance", 
            "cell_type": "markdown", 
            "metadata": {}
        }, 
        {
            "source": "## 2.4 Foursquare API\n\nWe will use Foursquare to obtain data from the different venues in each of the neighbourhoods with their specific longitude and latitude, being able to check on the profile os small businessess from the different neighbourhoods", 
            "cell_type": "markdown", 
            "metadata": {}
        }, 
        {
            "source": "## 2.5 Toronto Safety\n\n", 
            "cell_type": "markdown", 
            "metadata": {}
        }, 
        {
            "source": "**Source:** https://www.toronto.ca/city-government/data-research-maps/open-data/open-data-catalogue/public-safety/#6ff36980-d2f4-f438-d940-3e6a5c315588\n\nFinally, once our customer profile is clear and taoilored to the potential neighbourhoods, the economic situation described in them is viable, we will confirm via its public records the state of the different major crimes and felonies recorded and their nature, so the final assessment can take place. Some of the fields to be considered will be:\n* Breaks and enters\n* Fire and fire alarms \n* Robberies\n* Total Major Crimes incidents", 
            "cell_type": "markdown", 
            "metadata": {}
        }, 
        {
            "execution_count": null, 
            "cell_type": "code", 
            "metadata": {}, 
            "outputs": [], 
            "source": ""
        }
    ], 
    "metadata": {
        "kernelspec": {
            "display_name": "Python 3.6", 
            "name": "python3", 
            "language": "python"
        }, 
        "language_info": {
            "mimetype": "text/x-python", 
            "nbconvert_exporter": "python", 
            "version": "3.6.8", 
            "name": "python", 
            "file_extension": ".py", 
            "pygments_lexer": "ipython3", 
            "codemirror_mode": {
                "version": 3, 
                "name": "ipython"
            }
        }
    }, 
    "nbformat": 4
}
